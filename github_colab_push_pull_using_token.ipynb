{
  "nbformat": 4,
  "nbformat_minor": 0,
  "metadata": {
    "colab": {
      "provenance": [],
      "include_colab_link": true
    },
    "kernelspec": {
      "name": "python3",
      "display_name": "Python 3"
    },
    "language_info": {
      "name": "python"
    }
  },
  "cells": [
    {
      "cell_type": "markdown",
      "metadata": {
        "id": "view-in-github",
        "colab_type": "text"
      },
      "source": [
        "<a href=\"https://colab.research.google.com/github/binary-study/DemoBinary/blob/main/github_colab_push_pull_using_token.ipynb\" target=\"_parent\"><img src=\"https://colab.research.google.com/assets/colab-badge.svg\" alt=\"Open In Colab\"/></a>"
      ]
    },
    {
      "cell_type": "markdown",
      "source": [
        "#**Google Colab & Github - Push and Pull the changes using Token**"
      ],
      "metadata": {
        "id": "DRf1Rhu03Dte"
      }
    },
    {
      "cell_type": "markdown",
      "source": [
        "#Steps\n",
        "1. Generate **Personal Access Token** at github\n",
        "2. Add **user** **email** and **user name** to config\n",
        "3. **Clone** the github repository\n",
        "4. Change Current Directory to repository name\n",
        "5. Make changes and **add** them to **commit** **stack**\n",
        "6. **Commit** the changes\n",
        "7. **Push** to the github\n",
        "8. **pull** command\n"
      ],
      "metadata": {
        "id": "RaAZpy9wH7nY"
      }
    },
    {
      "cell_type": "markdown",
      "source": [
        "### 1. Generate personal access token at github"
      ],
      "metadata": {
        "id": "JBdfSrhyFnYM"
      }
    },
    {
      "cell_type": "code",
      "source": [
        "token = \"ghp_-----\" # put your token here"
      ],
      "metadata": {
        "id": "pK1eacrpP-h2"
      },
      "execution_count": null,
      "outputs": []
    },
    {
      "cell_type": "markdown",
      "source": [
        "### 2. Add user.email and user.name to config"
      ],
      "metadata": {
        "id": "uPYMf7RtFr7t"
      }
    },
    {
      "cell_type": "code",
      "source": [
        "!git config --global user.email \"bianrystudy21@gmail.com\"\n",
        "!git config --global user.name \"Shahid Akhtar\""
      ],
      "metadata": {
        "id": "j5akxU3pTl5W"
      },
      "execution_count": null,
      "outputs": []
    },
    {
      "cell_type": "code",
      "source": [
        "!git config --list"
      ],
      "metadata": {
        "colab": {
          "base_uri": "https://localhost:8080/"
        },
        "id": "ey7P7XoTNw7A",
        "outputId": "4324cf4d-d816-42ce-b467-d95d87048d3b"
      },
      "execution_count": null,
      "outputs": [
        {
          "output_type": "stream",
          "name": "stdout",
          "text": [
            "filter.lfs.clean=git-lfs clean -- %f\n",
            "filter.lfs.smudge=git-lfs smudge -- %f\n",
            "filter.lfs.process=git-lfs filter-process\n",
            "filter.lfs.required=true\n",
            "user.email=bianrystudy21@gmail.com\n",
            "user.name=Shahid Akhtar\n"
          ]
        }
      ]
    },
    {
      "cell_type": "markdown",
      "source": [
        "### 3. Clone the github repository"
      ],
      "metadata": {
        "id": "fmyjPkoWG24z"
      }
    },
    {
      "cell_type": "code",
      "source": [
        "username = \"binary-study\"\n",
        "repo = \"DemoBinary\""
      ],
      "metadata": {
        "id": "NzrIxyGETl72"
      },
      "execution_count": null,
      "outputs": []
    },
    {
      "cell_type": "code",
      "source": [
        "!git clone https://{token}@github.com/{username}/{repo}"
      ],
      "metadata": {
        "colab": {
          "base_uri": "https://localhost:8080/"
        },
        "id": "VcHQ0DvETl_K",
        "outputId": "8e8a6b03-bf3b-47bf-d2bd-432c6e83db64"
      },
      "execution_count": null,
      "outputs": [
        {
          "output_type": "stream",
          "name": "stdout",
          "text": [
            "Cloning into 'DemoBinary'...\n",
            "remote: Enumerating objects: 84, done.\u001b[K\n",
            "remote: Counting objects: 100% (84/84), done.\u001b[K\n",
            "remote: Compressing objects: 100% (65/65), done.\u001b[K\n",
            "remote: Total 84 (delta 36), reused 34 (delta 10), pack-reused 0 (from 0)\u001b[K\n",
            "Receiving objects: 100% (84/84), 29.11 KiB | 828.00 KiB/s, done.\n",
            "Resolving deltas: 100% (36/36), done.\n"
          ]
        }
      ]
    },
    {
      "cell_type": "markdown",
      "source": [
        "### 4. Change present working directory (pwd) to repository name"
      ],
      "metadata": {
        "id": "p6vSuTzjH_GR"
      }
    },
    {
      "cell_type": "code",
      "source": [
        "!pwd"
      ],
      "metadata": {
        "colab": {
          "base_uri": "https://localhost:8080/"
        },
        "id": "-9_6CcnnVBLp",
        "outputId": "d332e4bd-e17f-443d-95b2-1bfb3649a1dd"
      },
      "execution_count": null,
      "outputs": [
        {
          "output_type": "stream",
          "name": "stdout",
          "text": [
            "/content\n"
          ]
        }
      ]
    },
    {
      "cell_type": "code",
      "source": [
        "%cd {repo}"
      ],
      "metadata": {
        "colab": {
          "base_uri": "https://localhost:8080/"
        },
        "id": "m5j2087oTmGH",
        "outputId": "28ef1f79-db5a-4db3-d391-e40afa767d47"
      },
      "execution_count": null,
      "outputs": [
        {
          "output_type": "stream",
          "name": "stdout",
          "text": [
            "/content/DemoBinary\n"
          ]
        }
      ]
    },
    {
      "cell_type": "markdown",
      "source": [
        "### 5. Make changes and add them to commit stack"
      ],
      "metadata": {
        "id": "ZQdanQaGIyMn"
      }
    },
    {
      "cell_type": "code",
      "source": [
        "!ls"
      ],
      "metadata": {
        "colab": {
          "base_uri": "https://localhost:8080/"
        },
        "id": "D0TAed9-IuQf",
        "outputId": "97ae7309-8761-4f25-f5dd-a2016cf5c7e3"
      },
      "execution_count": null,
      "outputs": [
        {
          "output_type": "stream",
          "name": "stdout",
          "text": [
            "DemoGitHub.ipynb  myfile.py   README.md\t\t  Save_load_PyTorch_Model.ipynb\n",
            "firstpython.py\t  mytext.txt  Refined_AGCN.ipynb  secondfile.py\n"
          ]
        }
      ]
    },
    {
      "cell_type": "code",
      "source": [
        "!git status"
      ],
      "metadata": {
        "colab": {
          "base_uri": "https://localhost:8080/"
        },
        "id": "VyriZ-ByJx0v",
        "outputId": "189dd71f-6dcb-4d04-8deb-023f1799b3e0"
      },
      "execution_count": null,
      "outputs": [
        {
          "output_type": "stream",
          "name": "stdout",
          "text": [
            "On branch main\n",
            "Your branch is up to date with 'origin/main'.\n",
            "\n",
            "Changes not staged for commit:\n",
            "  (use \"git add <file>...\" to update what will be committed)\n",
            "  (use \"git restore <file>...\" to discard changes in working directory)\n",
            "\t\u001b[31mmodified:   myfile.py\u001b[m\n",
            "\n",
            "Untracked files:\n",
            "  (use \"git add <file>...\" to include in what will be committed)\n",
            "\t\u001b[31mcolab.htm\u001b[m\n",
            "\n",
            "no changes added to commit (use \"git add\" and/or \"git commit -a\")\n"
          ]
        }
      ]
    },
    {
      "cell_type": "code",
      "source": [
        "!git add --a"
      ],
      "metadata": {
        "id": "qnl5pQtWJx5L"
      },
      "execution_count": null,
      "outputs": []
    },
    {
      "cell_type": "code",
      "source": [
        "# for a specific file\n",
        "!git add colab.htm"
      ],
      "metadata": {
        "id": "gLjHU2fZBhFP"
      },
      "execution_count": null,
      "outputs": []
    },
    {
      "cell_type": "code",
      "source": [
        "!git status"
      ],
      "metadata": {
        "colab": {
          "base_uri": "https://localhost:8080/"
        },
        "id": "SDMwBMTcJx8y",
        "outputId": "17154af8-b212-467e-94cf-4ef93867f898"
      },
      "execution_count": null,
      "outputs": [
        {
          "output_type": "stream",
          "name": "stdout",
          "text": [
            "On branch main\n",
            "Your branch is up to date with 'origin/main'.\n",
            "\n",
            "Changes to be committed:\n",
            "  (use \"git restore --staged <file>...\" to unstage)\n",
            "\t\u001b[32mnew file:   colab.htm\u001b[m\n",
            "\n",
            "Changes not staged for commit:\n",
            "  (use \"git add <file>...\" to update what will be committed)\n",
            "  (use \"git restore <file>...\" to discard changes in working directory)\n",
            "\t\u001b[31mmodified:   myfile.py\u001b[m\n",
            "\n"
          ]
        }
      ]
    },
    {
      "cell_type": "code",
      "source": [
        "!git add myfile.py"
      ],
      "metadata": {
        "id": "q_oRtxXKgaT6"
      },
      "execution_count": null,
      "outputs": []
    },
    {
      "cell_type": "code",
      "source": [
        "!git status"
      ],
      "metadata": {
        "colab": {
          "base_uri": "https://localhost:8080/"
        },
        "id": "8e88ZtCmgjWl",
        "outputId": "c0f5a99e-952c-4960-acf3-b031b3cb981b"
      },
      "execution_count": null,
      "outputs": [
        {
          "output_type": "stream",
          "name": "stdout",
          "text": [
            "On branch main\n",
            "Your branch is up to date with 'origin/main'.\n",
            "\n",
            "Changes to be committed:\n",
            "  (use \"git restore --staged <file>...\" to unstage)\n",
            "\t\u001b[32mnew file:   colab.htm\u001b[m\n",
            "\t\u001b[32mmodified:   myfile.py\u001b[m\n",
            "\n"
          ]
        }
      ]
    },
    {
      "cell_type": "markdown",
      "source": [
        "### 6. Commit the changes"
      ],
      "metadata": {
        "id": "gYjugvEdLBZ1"
      }
    },
    {
      "cell_type": "code",
      "source": [
        "!git commit -a -m \"Commit from Google colab with new file\""
      ],
      "metadata": {
        "id": "X5JqwXgIJyAg"
      },
      "execution_count": null,
      "outputs": []
    },
    {
      "cell_type": "code",
      "source": [
        "# To commit a specific file use\n",
        "!git commit filename -m \"specific message\""
      ],
      "metadata": {
        "id": "IAUTmhctBpwd"
      },
      "execution_count": null,
      "outputs": []
    },
    {
      "cell_type": "code",
      "source": [
        "!git commit colab.htm -m \"Commit from Google colab with new file\""
      ],
      "metadata": {
        "colab": {
          "base_uri": "https://localhost:8080/"
        },
        "id": "K1M2k_GpiU5U",
        "outputId": "8a5b59fc-a415-40ee-f37d-ff8988b75cfe"
      },
      "execution_count": null,
      "outputs": [
        {
          "output_type": "stream",
          "name": "stdout",
          "text": [
            "[main 524cf16] Commit from Google colab with new file\n",
            " 1 file changed, 8 insertions(+)\n",
            " create mode 100644 colab.htm\n"
          ]
        }
      ]
    },
    {
      "cell_type": "code",
      "source": [
        "!git commit myfile.py -m \"Commit from Google colab with modified file\""
      ],
      "metadata": {
        "colab": {
          "base_uri": "https://localhost:8080/"
        },
        "id": "8bkh8RN3i0Wu",
        "outputId": "18e93dd7-9bde-4602-b083-173545577c9a"
      },
      "execution_count": null,
      "outputs": [
        {
          "output_type": "stream",
          "name": "stdout",
          "text": [
            "[main e0f8bb4] Commit from Google colab with modified file\n",
            " 1 file changed, 1 insertion(+)\n"
          ]
        }
      ]
    },
    {
      "cell_type": "markdown",
      "source": [
        "### 7. Push to github"
      ],
      "metadata": {
        "id": "BsW8Ym7sLOq7"
      }
    },
    {
      "cell_type": "code",
      "source": [
        "!git push origin main"
      ],
      "metadata": {
        "colab": {
          "base_uri": "https://localhost:8080/"
        },
        "id": "KyCDjGL8LPCg",
        "outputId": "9dd9f483-c1c5-476e-a255-a2bca0ab7e6c"
      },
      "execution_count": null,
      "outputs": [
        {
          "output_type": "stream",
          "name": "stdout",
          "text": [
            "Enumerating objects: 8, done.\n",
            "Counting objects:  12% (1/8)\rCounting objects:  25% (2/8)\rCounting objects:  37% (3/8)\rCounting objects:  50% (4/8)\rCounting objects:  62% (5/8)\rCounting objects:  75% (6/8)\rCounting objects:  87% (7/8)\rCounting objects: 100% (8/8)\rCounting objects: 100% (8/8), done.\n",
            "Delta compression using up to 2 threads\n",
            "Compressing objects:  16% (1/6)\rCompressing objects:  33% (2/6)\rCompressing objects:  50% (3/6)\rCompressing objects:  66% (4/6)\rCompressing objects:  83% (5/6)\rCompressing objects: 100% (6/6)\rCompressing objects: 100% (6/6), done.\n",
            "Writing objects:  16% (1/6)\rWriting objects:  33% (2/6)\rWriting objects:  50% (3/6)\rWriting objects:  66% (4/6)\rWriting objects:  83% (5/6)\rWriting objects: 100% (6/6)\rWriting objects: 100% (6/6), 755 bytes | 755.00 KiB/s, done.\n",
            "Total 6 (delta 2), reused 0 (delta 0), pack-reused 0\n",
            "remote: Resolving deltas:   0% (0/2)\u001b[K\rremote: Resolving deltas:  50% (1/2)\u001b[K\rremote: Resolving deltas: 100% (2/2)\u001b[K\rremote: Resolving deltas: 100% (2/2), completed with 1 local object.\u001b[K\n",
            "To https://github.com/binary-study/DemoBinary\n",
            "   e12fcc2..e0f8bb4  main -> main\n"
          ]
        }
      ]
    },
    {
      "cell_type": "markdown",
      "source": [
        "### 8. Pull the changes from github"
      ],
      "metadata": {
        "id": "Tnrt85MqM1dL"
      }
    },
    {
      "cell_type": "code",
      "source": [
        "!git pull origin main"
      ],
      "metadata": {
        "colab": {
          "base_uri": "https://localhost:8080/"
        },
        "id": "1S7uiKUXLPfm",
        "outputId": "d314ed34-8143-44c9-9964-e7f17a36c77d"
      },
      "execution_count": null,
      "outputs": [
        {
          "output_type": "stream",
          "name": "stdout",
          "text": [
            "remote: Enumerating objects: 5, done.\u001b[K\n",
            "remote: Counting objects:  20% (1/5)\u001b[K\rremote: Counting objects:  40% (2/5)\u001b[K\rremote: Counting objects:  60% (3/5)\u001b[K\rremote: Counting objects:  80% (4/5)\u001b[K\rremote: Counting objects: 100% (5/5)\u001b[K\rremote: Counting objects: 100% (5/5), done.\u001b[K\n",
            "remote: Compressing objects:  50% (1/2)\u001b[K\rremote: Compressing objects: 100% (2/2)\u001b[K\rremote: Compressing objects: 100% (2/2), done.\u001b[K\n",
            "Unpacking objects:  33% (1/3)\rUnpacking objects:  66% (2/3)\rUnpacking objects: 100% (3/3)\rUnpacking objects: 100% (3/3), 944 bytes | 944.00 KiB/s, done.\n",
            "remote: Total 3 (delta 1), reused 0 (delta 0), pack-reused 0 (from 0)\u001b[K\n",
            "From https://github.com/binary-study/DemoBinary\n",
            " * branch            main       -> FETCH_HEAD\n",
            "   e0f8bb4..df61ec7  main       -> origin/main\n",
            "Updating e0f8bb4..df61ec7\n",
            "Fast-forward\n",
            " mytext.txt | 4 \u001b[32m+\u001b[m\u001b[31m---\u001b[m\n",
            " 1 file changed, 1 insertion(+), 3 deletions(-)\n"
          ]
        }
      ]
    },
    {
      "cell_type": "code",
      "source": [],
      "metadata": {
        "id": "2IkV-pC3OWxM"
      },
      "execution_count": null,
      "outputs": []
    },
    {
      "cell_type": "code",
      "source": [],
      "metadata": {
        "id": "Qpmf2hbpOW_F"
      },
      "execution_count": null,
      "outputs": []
    },
    {
      "cell_type": "code",
      "source": [],
      "metadata": {
        "id": "iCzJpQowOXM3"
      },
      "execution_count": null,
      "outputs": []
    },
    {
      "cell_type": "code",
      "source": [],
      "metadata": {
        "id": "cYDvEN3HOXSi"
      },
      "execution_count": null,
      "outputs": []
    },
    {
      "cell_type": "code",
      "source": [],
      "metadata": {
        "id": "nQtivjlCOXfm"
      },
      "execution_count": null,
      "outputs": []
    },
    {
      "cell_type": "code",
      "source": [
        "!git remote -v"
      ],
      "metadata": {
        "id": "ULbi-K-_0j0W"
      },
      "execution_count": null,
      "outputs": []
    },
    {
      "cell_type": "code",
      "source": [
        "! git fetch origin main"
      ],
      "metadata": {
        "id": "2Iove9qqFqeZ"
      },
      "execution_count": null,
      "outputs": []
    },
    {
      "cell_type": "code",
      "source": [],
      "metadata": {
        "id": "WcN-4iVlIzde"
      },
      "execution_count": null,
      "outputs": []
    }
  ]
}